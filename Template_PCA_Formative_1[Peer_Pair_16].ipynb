{
  "cells": [
    {
      "cell_type": "markdown",
      "metadata": {
        "id": "JqkivgEHr_KW"
      },
      "source": [
        "# Formative Assignment: Advanced Linear Algebra (PCA)\n",
        "This notebook will guide you through the implementation of Principal Component Analysis (PCA). Fill in the missing code and provide the required answers in the appropriate sections. You will work with a dataset that is Africanized .\n",
        "\n",
        "Make sure to display outputs for each code cell when submitting."
      ]
    },
    {
      "cell_type": "code",
      "execution_count": null,
      "metadata": {
        "colab": {
          "base_uri": "https://localhost:8080/"
        },
        "id": "BKihXBaBr_Kc",
        "outputId": "e816195e-7d08-4ab6-82e4-e490ebeaf8cd"
      },
      "outputs": [
        {
          "name": "stdout",
          "output_type": "stream",
          "text": [
            "Using actual malaria dataset\n",
            "Dataset shape: (594, 27)\n",
            "Dataset columns: ['Country Name', 'Year', 'Country Code', 'Incidence of malaria (per 1,000 population at risk)', 'Malaria cases reported', 'Use of insecticide-treated bed nets (% of under-5 population)', 'Children with fever receiving antimalarial drugs (% of children under age 5 with fever)', 'Intermittent preventive treatment (IPT) of malaria in pregnancy (% of pregnant women)', 'People using safely managed drinking water services (% of population)', 'People using safely managed drinking water services, rural (% of rural population)', 'People using safely managed drinking water services, urban (% of urban population)', 'People using safely managed sanitation services (% of population)', 'People using safely managed sanitation services, rural (% of rural population)', 'People using safely managed sanitation services, urban  (% of urban population)', 'Rural population (% of total population)', 'Rural population growth (annual %)', 'Urban population (% of total population)', 'Urban population growth (annual %)', 'People using at least basic drinking water services (% of population)', 'People using at least basic drinking water services, rural (% of rural population)', 'People using at least basic drinking water services, urban (% of urban population)', 'People using at least basic sanitation services (% of population)', 'People using at least basic sanitation services, rural (% of rural population)', 'People using at least basic sanitation services, urban  (% of urban population)', 'latitude', 'longitude', 'geometry']\n",
            "First few rows:\n",
            "   Country Name  Year Country Code  \\\n",
            "0       Algeria  2007          DZA   \n",
            "1        Angola  2007          AGO   \n",
            "2         Benin  2007          BEN   \n",
            "3      Botswana  2007          BWA   \n",
            "4  Burkina Faso  2007          BFA   \n",
            "\n",
            "   Incidence of malaria (per 1,000 population at risk)  \\\n",
            "0                                               0.01     \n",
            "1                                             286.72     \n",
            "2                                             480.24     \n",
            "3                                               1.03     \n",
            "4                                             503.80     \n",
            "\n",
            "   Malaria cases reported  \\\n",
            "0                    26.0   \n",
            "1               1533485.0   \n",
            "2                     0.0   \n",
            "3                   390.0   \n",
            "4                 44246.0   \n",
            "\n",
            "   Use of insecticide-treated bed nets (% of under-5 population)  \\\n",
            "0                                                NaN               \n",
            "1                                               18.0               \n",
            "2                                                NaN               \n",
            "3                                                NaN               \n",
            "4                                                NaN               \n",
            "\n",
            "   Children with fever receiving antimalarial drugs (% of children under age 5 with fever)  \\\n",
            "0                                                NaN                                         \n",
            "1                                               29.8                                         \n",
            "2                                                NaN                                         \n",
            "3                                                NaN                                         \n",
            "4                                                NaN                                         \n",
            "\n",
            "   Intermittent preventive treatment (IPT) of malaria in pregnancy (% of pregnant women)  \\\n",
            "0                                                NaN                                       \n",
            "1                                                1.5                                       \n",
            "2                                                NaN                                       \n",
            "3                                                NaN                                       \n",
            "4                                                NaN                                       \n",
            "\n",
            "   People using safely managed drinking water services (% of population)  \\\n",
            "0                                                NaN                       \n",
            "1                                                NaN                       \n",
            "2                                                NaN                       \n",
            "3                                                NaN                       \n",
            "4                                                NaN                       \n",
            "\n",
            "   People using safely managed drinking water services, rural (% of rural population)  \\\n",
            "0                                                NaN                                    \n",
            "1                                                NaN                                    \n",
            "2                                                NaN                                    \n",
            "3                                                NaN                                    \n",
            "4                                                NaN                                    \n",
            "\n",
            "   ...  Urban population growth (annual %)  \\\n",
            "0  ...                                2.71   \n",
            "1  ...                                5.01   \n",
            "2  ...                                4.09   \n",
            "3  ...                                4.80   \n",
            "4  ...                                5.91   \n",
            "\n",
            "   People using at least basic drinking water services (% of population)  \\\n",
            "0                                              91.68                       \n",
            "1                                              47.96                       \n",
            "2                                              63.78                       \n",
            "3                                              78.89                       \n",
            "4                                              52.27                       \n",
            "\n",
            "   People using at least basic drinking water services, rural (% of rural population)  \\\n",
            "0                                              85.83                                    \n",
            "1                                              23.77                                    \n",
            "2                                              54.92                                    \n",
            "3                                              57.60                                    \n",
            "4                                              45.13                                    \n",
            "\n",
            "   People using at least basic drinking water services, urban (% of urban population)  \\\n",
            "0                                              94.78                                    \n",
            "1                                              65.83                                    \n",
            "2                                              76.24                                    \n",
            "3                                              94.35                                    \n",
            "4                                              76.15                                    \n",
            "\n",
            "   People using at least basic sanitation services (% of population)  \\\n",
            "0                                              85.85                   \n",
            "1                                              37.26                   \n",
            "2                                              11.80                   \n",
            "3                                              61.60                   \n",
            "4                                              15.60                   \n",
            "\n",
            "   People using at least basic sanitation services, rural (% of rural population)  \\\n",
            "0                                              76.94                                \n",
            "1                                              14.00                                \n",
            "2                                               4.29                                \n",
            "3                                              39.99                                \n",
            "4                                               6.38                                \n",
            "\n",
            "   People using at least basic sanitation services, urban  (% of urban population)  \\\n",
            "0                                              90.57                                 \n",
            "1                                              54.44                                 \n",
            "2                                              22.36                                 \n",
            "3                                              77.30                                 \n",
            "4                                              46.49                                 \n",
            "\n",
            "    latitude  longitude                            geometry  \n",
            "0  28.033886   1.659626          POINT (28.033886 1.659626)  \n",
            "1 -11.202692  17.873887        POINT (-11.202692 17.873887)  \n",
            "2   9.307690   2.315834  POINT (9.307689999999999 2.315834)  \n",
            "3 -22.328474  24.684866        POINT (-22.328474 24.684866)  \n",
            "4  12.238333  -1.561593         POINT (12.238333 -1.561593)  \n",
            "\n",
            "[5 rows x 27 columns]\n",
            "Numeric columns: ['Year', 'Incidence of malaria (per 1,000 population at risk)', 'Malaria cases reported', 'Use of insecticide-treated bed nets (% of under-5 population)', 'Children with fever receiving antimalarial drugs (% of children under age 5 with fever)', 'Intermittent preventive treatment (IPT) of malaria in pregnancy (% of pregnant women)', 'People using safely managed drinking water services (% of population)', 'People using safely managed drinking water services, rural (% of rural population)', 'People using safely managed drinking water services, urban (% of urban population)', 'People using safely managed sanitation services (% of population)', 'People using safely managed sanitation services, rural (% of rural population)', 'People using safely managed sanitation services, urban  (% of urban population)', 'Rural population (% of total population)', 'Rural population growth (annual %)', 'Urban population (% of total population)', 'Urban population growth (annual %)', 'People using at least basic drinking water services (% of population)', 'People using at least basic drinking water services, rural (% of rural population)', 'People using at least basic drinking water services, urban (% of urban population)', 'People using at least basic sanitation services (% of population)', 'People using at least basic sanitation services, rural (% of rural population)', 'People using at least basic sanitation services, urban  (% of urban population)', 'latitude', 'longitude']\n",
            "Missing values per column:\n",
            "Year                                                                                         0\n",
            "Incidence of malaria (per 1,000 population at risk)                                         44\n",
            "Malaria cases reported                                                                      44\n",
            "Use of insecticide-treated bed nets (% of under-5 population)                              462\n",
            "Children with fever receiving antimalarial drugs (% of children under age 5 with fever)    472\n",
            "Intermittent preventive treatment (IPT) of malaria in pregnancy (% of pregnant women)      488\n",
            "People using safely managed drinking water services (% of population)                      495\n",
            "People using safely managed drinking water services, rural (% of rural population)         506\n",
            "People using safely managed drinking water services, urban (% of urban population)         418\n",
            "People using safely managed sanitation services (% of population)                          462\n",
            "People using safely managed sanitation services, rural (% of rural population)             484\n",
            "People using safely managed sanitation services, urban  (% of urban population)            462\n",
            "Rural population (% of total population)                                                     6\n",
            "Rural population growth (annual %)                                                           6\n",
            "Urban population (% of total population)                                                     6\n",
            "Urban population growth (annual %)                                                           6\n",
            "People using at least basic drinking water services (% of population)                        6\n",
            "People using at least basic drinking water services, rural (% of rural population)          28\n",
            "People using at least basic drinking water services, urban (% of urban population)          28\n",
            "People using at least basic sanitation services (% of population)                            6\n",
            "People using at least basic sanitation services, rural (% of rural population)              28\n",
            "People using at least basic sanitation services, urban  (% of urban population)             28\n",
            "latitude                                                                                     0\n",
            "longitude                                                                                    0\n",
            "dtype: int64\n",
            "Columns after dropping those with >50% missing: ['Year', 'Incidence of malaria (per 1,000 population at risk)', 'Malaria cases reported', 'Rural population (% of total population)', 'Rural population growth (annual %)', 'Urban population (% of total population)', 'Urban population growth (annual %)', 'People using at least basic drinking water services (% of population)', 'People using at least basic drinking water services, rural (% of rural population)', 'People using at least basic drinking water services, urban (% of urban population)', 'People using at least basic sanitation services (% of population)', 'People using at least basic sanitation services, rural (% of rural population)', 'People using at least basic sanitation services, urban  (% of urban population)', 'latitude', 'longitude']\n",
            "Using cleaned numeric data with shape: (594, 15)\n",
            "Data type: <class 'numpy.ndarray'>\n",
            "Data shape: (594, 15)\n",
            "Sample data (first 2 rows): [[ 2.0070000e+03  1.0000000e-02  2.6000000e+01  3.4650000e+01\n",
            "  -6.0000000e-01  6.5350000e+01  2.7100000e+00  9.1680000e+01\n",
            "   8.5830000e+01  9.4780000e+01  8.5850000e+01  7.6940000e+01\n",
            "   9.0570000e+01  2.8033886e+01  1.6596260e+00]\n",
            " [ 2.0070000e+03  2.8672000e+02  1.5334850e+06  4.2480000e+01\n",
            "   1.9100000e+00  5.7520000e+01  5.0100000e+00  4.7960000e+01\n",
            "   2.3770000e+01  6.5830000e+01  3.7260000e+01  1.4000000e+01\n",
            "   5.4440000e+01 -1.1202692e+01  1.7873887e+01]]\n",
            "Standardized data shape: (594, 15)\n"
          ]
        },
        {
          "data": {
            "text/plain": [
              "array([[-1.58113883, -1.21256459, -0.50676022, -1.23400095, -1.66809102,\n",
              "         1.23397271, -0.56164688,  1.4949511 ,  1.86242385,  1.15800583,\n",
              "         1.77365688,  2.08348956,  1.99788845,  1.60900436, -0.78319128],\n",
              "       [-1.58113883,  0.61644942,  0.22065066, -0.79850359,  0.43654858,\n",
              "         0.79847029,  1.02714839, -1.04968763, -1.49943184, -2.0312881 ,\n",
              "        -0.08450631, -0.60024644,  0.2987136 , -0.89572088,  0.02653472],\n",
              "       [-1.58113883,  1.85097486, -0.50677256,  0.08917686,  0.50362873,\n",
              "        -0.08922047,  0.39163028, -0.12891488,  0.18799653, -0.88446427,\n",
              "        -1.05813946, -1.01427689, -1.20999189,  0.41358982, -0.75042082],\n",
              "       [-1.58113883, -1.20605768, -0.50658756, -0.82130741, -2.37243257,\n",
              "         0.82127437,  0.88208447,  0.75053369,  0.33317496,  1.11063462,\n",
              "         0.84629616,  0.50795659,  1.37380734, -1.6059517 ,  0.36666905],\n",
              "       [-1.58113883,  2.00127157, -0.48578404,  1.12146692,  0.64617404,\n",
              "        -1.12152249,  1.64885089, -0.79883234, -0.3423381 , -0.89437918,\n",
              "        -0.91282108, -0.92516014, -0.07517071,  0.60067177, -0.94405613]])"
            ]
          },
          "execution_count": 3,
          "metadata": {},
          "output_type": "execute_result"
        }
      ],
      "source": [
        "import numpy as np\n",
        "import pandas as pd\n",
        "import matplotlib.pyplot as plt\n",
        "\n",
        "# Fix the file path - /content/ is for Google Colab, not Linux\n",
        "try:\n",
        "    df = pd.read_csv('DatasetAfricaMalaria.csv')  # Look in current directory\n",
        "    print(\"Using actual malaria dataset\")\n",
        "    print(\"Dataset shape:\", df.shape)\n",
        "    print(\"Dataset columns:\", df.columns.tolist())\n",
        "    print(\"First few rows:\")\n",
        "    print(df.head())\n",
        "    \n",
        "    # Select only numeric columns\n",
        "    numeric_cols = df.select_dtypes(include=[np.number]).columns\n",
        "    print(\"Numeric columns:\", numeric_cols.tolist())\n",
        "    \n",
        "    if len(numeric_cols) > 0:\n",
        "        # Get numeric data and handle missing values\n",
        "        numeric_data = df[numeric_cols]\n",
        "        print(\"Missing values per column:\")\n",
        "        print(numeric_data.isnull().sum())\n",
        "        \n",
        "        # Drop columns with too many missing values (>50% missing)\n",
        "        threshold = len(numeric_data) * 0.5\n",
        "        numeric_data = numeric_data.dropna(axis=1, thresh=threshold)\n",
        "        print(\"Columns after dropping those with >50% missing:\", numeric_data.columns.tolist())\n",
        "        \n",
        "        # Fill remaining missing values with column means\n",
        "        numeric_data = numeric_data.fillna(numeric_data.mean())\n",
        "        \n",
        "        # Convert to numpy array\n",
        "        data = numeric_data.values\n",
        "        print(\"Using cleaned numeric data with shape:\", data.shape)\n",
        "    else:\n",
        "        print(\"No numeric columns found, using random data\")\n",
        "        data = np.random.rand(100, 10)\n",
        "        \n",
        "except FileNotFoundError:\n",
        "    print(\"Dataset not found, using random data\")\n",
        "    data = np.random.rand(100, 10)\n",
        "\n",
        "# Step 1: Load and Standardize the data (use of numpy only allowed)\n",
        "print(\"Data type:\", type(data))\n",
        "print(\"Data shape:\", data.shape)\n",
        "print(\"Sample data (first 2 rows):\", data[:2])\n",
        "\n",
        "# Check for any remaining NaN values\n",
        "if np.isnan(data).any():\n",
        "    print(\"Warning: Data still contains NaN values. Using random data instead.\")\n",
        "    data = np.random.rand(100, 10)\n",
        "\n",
        "mean = np.mean(data, axis=0)\n",
        "std_dev = np.std(data, axis=0)\n",
        "\n",
        "# Avoid division by zero for constant columns\n",
        "std_dev[std_dev == 0] = 1\n",
        "\n",
        "standardized_data = (data - mean) / std_dev\n",
        "\n",
        "print(\"Standardized data shape:\", standardized_data.shape)\n",
        "standardized_data[:5]  # Display the first few rows of standardized data"
      ]
    },
    {
      "cell_type": "markdown",
      "metadata": {
        "id": "Fybn40Syr_Kd"
      },
      "source": [
        "### Step 3: Calculate the Covariance Matrix\n",
        "The covariance matrix helps us understand how the features are related to each other. It is a key component in PCA."
      ]
    },
    {
      "cell_type": "code",
      "execution_count": null,
      "metadata": {
        "colab": {
          "base_uri": "https://localhost:8080/"
        },
        "id": "RbklA9tqr_Ke",
        "outputId": "5ae72782-4f07-4fa1-f405-7f58c859c385"
      },
      "outputs": [
        {
          "data": {
            "text/plain": [
              "array([[ 1.00168634e+00, -6.80542806e-02,  3.57947203e-01,\n",
              "        -8.40379544e-02, -4.97357957e-02,  8.40398632e-02,\n",
              "        -5.65317141e-02,  1.18565745e-01,  1.10879038e-01,\n",
              "         1.00777429e-01,  6.83801684e-02,  6.84030302e-02,\n",
              "         5.87010243e-02, -9.12704426e-19,  5.24219978e-18],\n",
              "       [-6.80542806e-02,  1.00168634e+00,  2.88995393e-01,\n",
              "         2.45446793e-01,  3.87139217e-01, -2.45450290e-01,\n",
              "         3.09619690e-01, -3.68912526e-01, -3.13484257e-01,\n",
              "        -3.99015433e-01, -4.40983873e-01, -3.75800980e-01,\n",
              "        -4.25948448e-01,  5.88013289e-02, -2.64875225e-01],\n",
              "       [ 3.57947203e-01,  2.88995393e-01,  1.00168634e+00,\n",
              "         2.13337373e-01,  2.40234419e-01, -2.13346062e-01,\n",
              "         2.52430491e-01, -2.32449030e-01, -1.80609519e-01,\n",
              "        -1.67590337e-01, -1.75105836e-01, -1.14344867e-01,\n",
              "        -2.08589045e-01, -8.65447283e-02,  6.68523086e-02],\n",
              "       [-8.40379544e-02,  2.45446793e-01,  2.13337373e-01,\n",
              "         1.00168634e+00,  6.52752199e-01, -1.00168633e+00,\n",
              "         2.28668069e-01, -6.26245895e-01, -2.74393095e-01,\n",
              "        -2.66992671e-01, -5.13590925e-01, -2.66614314e-01,\n",
              "        -4.40491592e-01, -2.27004920e-01,  3.04281756e-01],\n",
              "       [-4.97357957e-02,  3.87139217e-01,  2.40234419e-01,\n",
              "         6.52752199e-01,  1.00168634e+00, -6.52752295e-01,\n",
              "         3.30222384e-01, -5.91938495e-01, -4.05407880e-01,\n",
              "        -3.99623522e-01, -5.14582694e-01, -3.82218108e-01,\n",
              "        -4.41068001e-01,  1.00380397e-01,  9.66082786e-02],\n",
              "       [ 8.40398632e-02, -2.45450290e-01, -2.13346062e-01,\n",
              "        -1.00168633e+00, -6.52752295e-01,  1.00168634e+00,\n",
              "        -2.28672075e-01,  6.26248362e-01,  2.74394932e-01,\n",
              "         2.66997829e-01,  5.13593445e-01,  2.66617225e-01,\n",
              "         4.40494598e-01,  2.27004250e-01, -3.04279321e-01],\n",
              "       [-5.65317141e-02,  3.09619690e-01,  2.52430491e-01,\n",
              "         2.28668069e-01,  3.30222384e-01, -2.28672075e-01,\n",
              "         1.00168634e+00, -5.27906853e-01, -4.94094840e-01,\n",
              "        -3.89808620e-01, -5.20120196e-01, -4.29718575e-01,\n",
              "        -4.43028669e-01,  2.39295208e-02, -1.45843679e-01],\n",
              "       [ 1.18565745e-01, -3.68912526e-01, -2.32449030e-01,\n",
              "        -6.26245895e-01, -5.91938495e-01,  6.26248362e-01,\n",
              "        -5.27906853e-01,  1.00168634e+00,  8.64171662e-01,\n",
              "         7.54530519e-01,  7.80034713e-01,  6.54437668e-01,\n",
              "         6.41490450e-01,  7.25370760e-02, -1.28002384e-01],\n",
              "       [ 1.10879038e-01, -3.13484257e-01, -1.80609519e-01,\n",
              "        -2.74393095e-01, -4.05407880e-01,  2.74394932e-01,\n",
              "        -4.94094840e-01,  8.64171662e-01,  1.00168634e+00,\n",
              "         7.50013812e-01,  6.11340757e-01,  7.06841100e-01,\n",
              "         6.13278233e-01,  3.28411143e-02, -1.25807084e-01],\n",
              "       [ 1.00777429e-01, -3.99015433e-01, -1.67590337e-01,\n",
              "        -2.66992671e-01, -3.99623522e-01,  2.66997829e-01,\n",
              "        -3.89808620e-01,  7.54530519e-01,  7.50013812e-01,\n",
              "         1.00168634e+00,  5.40304916e-01,  6.17306920e-01,\n",
              "         5.35673808e-01, -6.70587012e-02, -6.38406197e-02],\n",
              "       [ 6.83801684e-02, -4.40983873e-01, -1.75105836e-01,\n",
              "        -5.13590925e-01, -5.14582694e-01,  5.13593445e-01,\n",
              "        -5.20120196e-01,  7.80034713e-01,  6.11340757e-01,\n",
              "         5.40304916e-01,  1.00168634e+00,  8.49960808e-01,\n",
              "         8.47367389e-01,  1.05847018e-01,  1.14372072e-01],\n",
              "       [ 6.84030302e-02, -3.75800980e-01, -1.14344867e-01,\n",
              "        -2.66614314e-01, -3.82218108e-01,  2.66617225e-01,\n",
              "        -4.29718575e-01,  6.54437668e-01,  7.06841100e-01,\n",
              "         6.17306920e-01,  8.49960808e-01,  1.00168634e+00,\n",
              "         8.38649585e-01,  1.02474697e-02,  9.02778513e-02],\n",
              "       [ 5.87010243e-02, -4.25948448e-01, -2.08589045e-01,\n",
              "        -4.40491592e-01, -4.41068001e-01,  4.40494598e-01,\n",
              "        -4.43028669e-01,  6.41490450e-01,  6.13278233e-01,\n",
              "         5.35673808e-01,  8.47367389e-01,  8.38649585e-01,\n",
              "         1.00168634e+00,  1.43825920e-01, -8.67147649e-03],\n",
              "       [-9.12704426e-19,  5.88013289e-02, -8.65447283e-02,\n",
              "        -2.27004920e-01,  1.00380397e-01,  2.27004250e-01,\n",
              "         2.39295208e-02,  7.25370760e-02,  3.28411143e-02,\n",
              "        -6.70587012e-02,  1.05847018e-01,  1.02474697e-02,\n",
              "         1.43825920e-01,  1.00168634e+00, -5.05854136e-01],\n",
              "       [ 5.24219978e-18, -2.64875225e-01,  6.68523086e-02,\n",
              "         3.04281756e-01,  9.66082786e-02, -3.04279321e-01,\n",
              "        -1.45843679e-01, -1.28002384e-01, -1.25807084e-01,\n",
              "        -6.38406197e-02,  1.14372072e-01,  9.02778513e-02,\n",
              "        -8.67147649e-03, -5.05854136e-01,  1.00168634e+00]])"
            ]
          },
          "execution_count": 4,
          "metadata": {},
          "output_type": "execute_result"
        }
      ],
      "source": [
        "# Step 3: Calculate the Covariance Matrix\n",
        "cov_matrix = np.cov(standardized_data, rowvar=False)  # Calculate covariance matrix\n",
        "cov_matrix"
      ]
    },
    {
      "cell_type": "markdown",
      "metadata": {
        "id": "dWzqXsR0r_Ke"
      },
      "source": [
        "### Step 4: Perform Eigendecomposition\n",
        "Eigendecomposition of the covariance matrix will give us the eigenvalues and eigenvectors, which are essential for PCA.\n",
        "Fill in the code to compute the eigenvalues and eigenvectors of the covariance matrix."
      ]
    },
    {
      "cell_type": "code",
      "execution_count": null,
      "metadata": {
        "colab": {
          "base_uri": "https://localhost:8080/"
        },
        "id": "8Tm0rzdAr_Ke",
        "outputId": "05a62d00-cbc1-4673-c765-59ca22158b3b"
      },
      "outputs": [],
      "source": [
        "eigenvalues, eigenvectors = np.linalg.eig(cov_matrix)\n",
        "\n",
        "print(\"Eigenvalues shape:\", eigenvalues.shape)\n",
        "print(\"Eigenvectors shape:\", eigenvectors.shape)\n",
        "print(\"\\nFirst 5 eigenvalues:\", eigenvalues[:5])\n",
        "print(\"\\nSum of eigenvalues:\", np.sum(eigenvalues))\n",
        "\n",
        "# Display eigenvalues and eigenvectors\n",
        "print(\"\\nAll eigenvalues:\")\n",
        "print(eigenvalues)\n",
        "print(\"\\nFirst eigenvector (first column):\")\n",
        "print(eigenvectors[:, 0])"
      ]
    },
    {
      "cell_type": "markdown",
      "metadata": {
        "id": "bp6o_4sTr_Kf"
      },
      "source": [
        "### Step 5: Sort Principal Components\n",
        "Sort the eigenvectors based on their corresponding eigenvalues in descending order. The higher the eigenvalue, the more important the eigenvector.\n",
        "Complete the code to sort the eigenvectors and print the sorted components.\n",
        "\n",
        "<a url ='https://www.youtube.com/watch?v=vaF-1xUEXsA&t=17s'>How Is Explained Variance Used In PCA?'<a/>"
      ]
    },
    {
      "cell_type": "code",
      "execution_count": null,
      "metadata": {
        "colab": {
          "base_uri": "https://localhost:8080/"
        },
        "id": "jpfoRz-Xr_Kf",
        "outputId": "f2a1ed40-72ec-4c3e-9761-82142b435209"
      },
      "outputs": [],
      "source": []
    },
    {
      "cell_type": "markdown",
      "metadata": {
        "id": "uxbmuO27r_Kg"
      },
      "source": [
        "### Step 6: Project Data onto Principal Components\n",
        "Now that we’ve selected the number of components, we will project the original data onto the chosen principal components.\n",
        "Fill in the code to perform the projection."
      ]
    },
    {
      "cell_type": "code",
      "execution_count": null,
      "metadata": {
        "colab": {
          "base_uri": "https://localhost:8080/"
        },
        "id": "ubjIMAtWr_Kg",
        "outputId": "40bb039e-4285-4854-cbad-aff0e81848e7"
      },
      "outputs": [],
      "source": []
    },
    {
      "cell_type": "markdown",
      "metadata": {
        "id": "XVq-b6vtr_Kg"
      },
      "source": [
        "### Step 7: Output the Reduced Data\n",
        "Finally, display the reduced data obtained by projecting the original dataset onto the selected principal components."
      ]
    },
    {
      "cell_type": "code",
      "execution_count": null,
      "metadata": {
        "colab": {
          "base_uri": "https://localhost:8080/"
        },
        "id": "5D0uzRyPr_Kg",
        "outputId": "429d9658-b6a3-4c6e-8679-7bf65b6147b7"
      },
      "outputs": [],
      "source": []
    },
    {
      "cell_type": "markdown",
      "metadata": {
        "id": "S1f8ROm5r_Kg"
      },
      "source": [
        "### Step 8: Visualize Before and After PCA\n",
        "Now, let's plot the original data and the data after PCA to compare the reduction in dimensions visually."
      ]
    },
    {
      "cell_type": "code",
      "execution_count": null,
      "metadata": {
        "colab": {
          "base_uri": "https://localhost:8080/",
          "height": 293
        },
        "id": "WwuppWV-r_Kg",
        "outputId": "1942715e-0a9e-4b4d-d038-5a33367e1750"
      },
      "outputs": [],
      "source": []
    }
  ],
  "metadata": {
    "colab": {
      "provenance": []
    },
    "kernelspec": {
      "display_name": ".venv",
      "language": "python",
      "name": "python3"
    },
    "language_info": {
      "codemirror_mode": {
        "name": "ipython",
        "version": 3
      },
      "file_extension": ".py",
      "mimetype": "text/x-python",
      "name": "python",
      "nbconvert_exporter": "python",
      "pygments_lexer": "ipython3",
      "version": "3.12.3"
    }
  },
  "nbformat": 4,
  "nbformat_minor": 0
}
